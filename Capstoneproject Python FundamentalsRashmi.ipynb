{
 "cells": [
  {
   "cell_type": "code",
   "execution_count": 1,
   "id": "72cce85d-8aad-44b9-b858-d8b6993fe5ab",
   "metadata": {},
   "outputs": [
    {
     "name": "stdout",
     "output_type": "stream",
     "text": [
      "      Id     Project       Cost    Status\n",
      "0   A001   Project 1  1002000.0  Finished\n",
      "1   A002   Project 2  2000000.0   Ongoing\n",
      "2   A003   Project 3  4500000.0  Finished\n",
      "3   A004   Project 4  5500000.0   Ongoing\n",
      "4   A005   Project 5        NaN  Finished\n",
      "5   A002   Project 6   680000.0    Failed\n",
      "6   A005   Project 7   400000.0  Finished\n",
      "7   A003   Project 8   350000.0    Failed\n",
      "8   A001   Project 9        NaN   Ongoing\n",
      "9   A003  Project 10   300000.0  Finished\n",
      "10  A001  Project 11  2000000.0    Failed\n",
      "11  A004  Project 12  1000000.0   Ongoing\n",
      "12  A004  Project 13  3000000.0  Finished\n",
      "13  A005  Project 14   200000.0  Finished\n"
     ]
    }
   ],
   "source": [
    "#TASK 1\n",
    "import pandas as pd\n",
    "import numpy as np\n",
    "\n",
    "#create dataframe for project data\n",
    "data1={\n",
    "    'Id':['A001','A002','A003','A004','A005','A002','A005','A003','A001','A003','A001','A004','A004','A005'],\n",
    "    'Project':['Project 1','Project 2','Project 3','Project 4','Project 5','Project 6','Project 7','Project 8','Project 9','Project 10','Project 11','Project 12','Project 13','Project 14'],\n",
    "    'Cost':[1002000,2000000,4500000,5500000,np.nan,680000,400000,350000,np.nan,300000,2000000,1000000,3000000,200000],\n",
    "    'Status':['Finished','Ongoing','Finished','Ongoing','Finished','Failed','Finished','Failed','Ongoing','Finished','Failed','Ongoing','Finished','Finished']\n",
    "}\n",
    "df1=pd.DataFrame(data1)\n",
    "\n",
    "#save the data frame as a CSV file\n",
    "df1.to_csv('Project_data.csv',index=False)\n",
    "print(df1)"
   ]
  },
  {
   "cell_type": "code",
   "execution_count": 3,
   "id": "487eb178-1fe7-47bb-b060-40777e1944d1",
   "metadata": {},
   "outputs": [
    {
     "name": "stdout",
     "output_type": "stream",
     "text": [
      "     Id             Name Gender     City  Age\n",
      "0  A001       John Alter      M    Paris   25\n",
      "1  A002  Alice Luxumberg      F   London   27\n",
      "2  A003    Tom Sabestine      M  Berline   29\n",
      "3  A004       Nina Adgra      F  Newyork   31\n",
      "4  A005        Amy Johny      F   Madrid   30\n"
     ]
    }
   ],
   "source": [
    "data2={\n",
    "    'Id':['A001','A002','A003','A004','A005'],\n",
    "    'Name':['John Alter','Alice Luxumberg','Tom Sabestine','Nina Adgra','Amy Johny'],\n",
    "    'Gender':['M','F','M','F','F'],\n",
    "    'City':['Paris','London','Berline','Newyork','Madrid'],\n",
    "    'Age':[25,27,29,31,30]\n",
    "}\n",
    "df2=pd.DataFrame(data2)\n",
    "\n",
    "#create the second dataframe\n",
    "df2.to_csv('Employee_DataFrame.csv',index=False)\n",
    "print(df2)"
   ]
  },
  {
   "cell_type": "code",
   "execution_count": 5,
   "id": "fe2c479d-a77c-425f-a174-87a133d1119a",
   "metadata": {},
   "outputs": [
    {
     "name": "stdout",
     "output_type": "stream",
     "text": [
      "     Id  Designation Level\n",
      "0  A001                  2\n",
      "1  A002                  2\n",
      "2  A003                  3\n",
      "3  A004                  2\n",
      "4  A005                  3\n"
     ]
    }
   ],
   "source": [
    "data3={\n",
    "    'Id':['A001','A002','A003','A004','A005'],\n",
    "    'Designation Level':[2,2,3,2,3]\n",
    "}\n",
    "df3=pd.DataFrame(data3)\n",
    "\n",
    "#Create third data frame\n",
    "df3.to_csv('Seniority_Level_Data_Frame.csv',index=False)\n",
    "print(df3)"
   ]
  },
  {
   "cell_type": "code",
   "execution_count": null,
   "id": "5c00393a-1577-4049-82da-740ec7ef6c85",
   "metadata": {},
   "outputs": [],
   "source": []
  },
  {
   "cell_type": "code",
   "execution_count": 7,
   "id": "c65f784b-4a08-4db5-ac95-06c89e2afe61",
   "metadata": {},
   "outputs": [
    {
     "name": "stdout",
     "output_type": "stream",
     "text": [
      "ORIGINAL DATAFRAME\n",
      "      Id     Project       Cost    Status\n",
      "0   A001   Project 1  1002000.0  Finished\n",
      "1   A002   Project 2  2000000.0   Ongoing\n",
      "2   A003   Project 3  4500000.0  Finished\n",
      "3   A004   Project 4  5500000.0   Ongoing\n",
      "4   A005   Project 5        NaN  Finished\n",
      "5   A002   Project 6   680000.0    Failed\n",
      "6   A005   Project 7   400000.0  Finished\n",
      "7   A003   Project 8   350000.0    Failed\n",
      "8   A001   Project 9        NaN   Ongoing\n",
      "9   A003  Project 10   300000.0  Finished\n",
      "10  A001  Project 11  2000000.0    Failed\n",
      "11  A004  Project 12  1000000.0   Ongoing\n",
      "12  A004  Project 13  3000000.0  Finished\n",
      "13  A005  Project 14   200000.0  Finished\n",
      "\n",
      " Updated Data Frame:\n",
      "      Id     Project       Cost    Status\n",
      "0   A001   Project 1  1002000.0  Finished\n",
      "1   A002   Project 2  2000000.0   Ongoing\n",
      "2   A003   Project 3  4500000.0  Finished\n",
      "3   A004   Project 4  5500000.0   Ongoing\n",
      "4   A005   Project 5  3090000.0  Finished\n",
      "5   A002   Project 6   680000.0    Failed\n",
      "6   A005   Project 7   400000.0  Finished\n",
      "7   A003   Project 8   350000.0    Failed\n",
      "8   A001   Project 9   325000.0   Ongoing\n",
      "9   A003  Project 10   300000.0  Finished\n",
      "10  A001  Project 11  2000000.0    Failed\n",
      "11  A004  Project 12  1000000.0   Ongoing\n",
      "12  A004  Project 13  3000000.0  Finished\n",
      "13  A005  Project 14   200000.0  Finished\n"
     ]
    }
   ],
   "source": [
    "#TASK 2\n",
    "\n",
    "# print original data frame\n",
    "print(\"ORIGINAL DATAFRAME\")\n",
    "print(df1)\n",
    "\n",
    "#Compute the running average\n",
    "running_average=[]\n",
    "for i in range(len(df1['Cost'])):\n",
    "    if i==0:\n",
    "        running_average.append(df1['Cost'][i])\n",
    "    else:\n",
    "         running_average.append((df1['Cost'][i-1]+df1['Cost'][i])/2)\n",
    "#replace the missing values with the running average\n",
    "df1['Cost']=df1['Cost'].interpolate(method='linear',limit_direction='both',limit=100)\n",
    "\n",
    "#print the updated dataframe\n",
    "print(\"\\n Updated Data Frame:\")\n",
    "print(df1)"
   ]
  },
  {
   "cell_type": "code",
   "execution_count": null,
   "id": "160f1810-8ab7-46b7-9d87-67b545d8c8f8",
   "metadata": {},
   "outputs": [],
   "source": []
  },
  {
   "cell_type": "code",
   "execution_count": 9,
   "id": "38ecf20c-8443-4bc0-b689-fc49ff0f0fbd",
   "metadata": {},
   "outputs": [
    {
     "name": "stdout",
     "output_type": "stream",
     "text": [
      "ORIGINAL DATAFRAME:\n",
      "     Id             Name Gender     City  Age\n",
      "0  A001       John Alter      M    Paris   25\n",
      "1  A002  Alice Luxumberg      F   London   27\n",
      "2  A003    Tom Sabestine      M  Berline   29\n",
      "3  A004       Nina Adgra      F  Newyork   31\n",
      "4  A005        Amy Johny      F   Madrid   30\n",
      "\n",
      " UPDATED DATA FRAME:\n",
      "     Id Gender     City  Age First Name  Last Name\n",
      "0  A001      M    Paris   25       John      Alter\n",
      "1  A002      F   London   27      Alice  Luxumberg\n",
      "2  A003      M  Berline   29        Tom  Sabestine\n",
      "3  A004      F  Newyork   31       Nina      Adgra\n",
      "4  A005      F   Madrid   30        Amy      Johny\n"
     ]
    }
   ],
   "source": [
    "#TASK 3\n",
    "\n",
    "#print the original data frame\n",
    "print(\"ORIGINAL DATAFRAME:\")\n",
    "print(df2)\n",
    "\n",
    "#split the \"Name\" column into 'First Name' and 'Last Name'\n",
    "df2[['First Name','Last Name']]=df2['Name'].str.split(expand=True)\n",
    "\n",
    "#Remove the older 'Name' column\n",
    "df2=df2.drop('Name',axis=1)\n",
    "\n",
    "#Print the updated data frame\n",
    "print(\"\\n UPDATED DATA FRAME:\")\n",
    "print(df2)"
   ]
  },
  {
   "cell_type": "code",
   "execution_count": null,
   "id": "3b062e3a-9b8b-454e-8a8f-67c62801e866",
   "metadata": {},
   "outputs": [],
   "source": []
  },
  {
   "cell_type": "code",
   "execution_count": 11,
   "id": "a1010209-37de-4959-85ac-e940cea12973",
   "metadata": {},
   "outputs": [
    {
     "name": "stdout",
     "output_type": "stream",
     "text": [
      "Final DataFrame:\n",
      "      Id     Project       Cost    Status Gender     City  Age First Name  \\\n",
      "0   A001   Project 1  1002000.0  Finished      M    Paris   25       John   \n",
      "1   A002   Project 2  2000000.0   Ongoing      F   London   27      Alice   \n",
      "2   A003   Project 3  4500000.0  Finished      M  Berline   29        Tom   \n",
      "3   A004   Project 4  5500000.0   Ongoing      F  Newyork   31       Nina   \n",
      "4   A005   Project 5  3090000.0  Finished      F   Madrid   30        Amy   \n",
      "5   A002   Project 6   680000.0    Failed      F   London   27      Alice   \n",
      "6   A005   Project 7   400000.0  Finished      F   Madrid   30        Amy   \n",
      "7   A003   Project 8   350000.0    Failed      M  Berline   29        Tom   \n",
      "8   A001   Project 9   325000.0   Ongoing      M    Paris   25       John   \n",
      "9   A003  Project 10   300000.0  Finished      M  Berline   29        Tom   \n",
      "10  A001  Project 11  2000000.0    Failed      M    Paris   25       John   \n",
      "11  A004  Project 12  1000000.0   Ongoing      F  Newyork   31       Nina   \n",
      "12  A004  Project 13  3000000.0  Finished      F  Newyork   31       Nina   \n",
      "13  A005  Project 14   200000.0  Finished      F   Madrid   30        Amy   \n",
      "\n",
      "    Last Name  Designation Level  \n",
      "0       Alter                  2  \n",
      "1   Luxumberg                  2  \n",
      "2   Sabestine                  3  \n",
      "3       Adgra                  2  \n",
      "4       Johny                  3  \n",
      "5   Luxumberg                  2  \n",
      "6       Johny                  3  \n",
      "7   Sabestine                  3  \n",
      "8       Alter                  2  \n",
      "9   Sabestine                  3  \n",
      "10      Alter                  2  \n",
      "11      Adgra                  2  \n",
      "12      Adgra                  2  \n",
      "13      Johny                  3  \n"
     ]
    }
   ],
   "source": [
    "#TASK 4\n",
    "\n",
    "#Join the three dataframe into one single dataframe\n",
    "Final=pd.merge(df1,df2,on='Id')\n",
    "Final=pd.merge(Final,df3,on='Id')\n",
    "\n",
    "#print the final dataframe\n",
    "print(\"Final DataFrame:\")\n",
    "print(Final)"
   ]
  },
  {
   "cell_type": "code",
   "execution_count": 13,
   "id": "e1cbcbaa-a79d-4538-8ed2-201684789329",
   "metadata": {},
   "outputs": [
    {
     "name": "stdout",
     "output_type": "stream",
     "text": [
      "Final Data frame before adding Bonus column\n",
      "      Id     Project       Cost    Status Gender     City  Age First Name  \\\n",
      "0   A001   Project 1  1002000.0  Finished      M    Paris   25       John   \n",
      "1   A002   Project 2  2000000.0   Ongoing      F   London   27      Alice   \n",
      "2   A003   Project 3  4500000.0  Finished      M  Berline   29        Tom   \n",
      "3   A004   Project 4  5500000.0   Ongoing      F  Newyork   31       Nina   \n",
      "4   A005   Project 5  3090000.0  Finished      F   Madrid   30        Amy   \n",
      "5   A002   Project 6   680000.0    Failed      F   London   27      Alice   \n",
      "6   A005   Project 7   400000.0  Finished      F   Madrid   30        Amy   \n",
      "7   A003   Project 8   350000.0    Failed      M  Berline   29        Tom   \n",
      "8   A001   Project 9   325000.0   Ongoing      M    Paris   25       John   \n",
      "9   A003  Project 10   300000.0  Finished      M  Berline   29        Tom   \n",
      "10  A001  Project 11  2000000.0    Failed      M    Paris   25       John   \n",
      "11  A004  Project 12  1000000.0   Ongoing      F  Newyork   31       Nina   \n",
      "12  A004  Project 13  3000000.0  Finished      F  Newyork   31       Nina   \n",
      "13  A005  Project 14   200000.0  Finished      F   Madrid   30        Amy   \n",
      "\n",
      "    Last Name  Designation Level  \n",
      "0       Alter                  2  \n",
      "1   Luxumberg                  2  \n",
      "2   Sabestine                  3  \n",
      "3       Adgra                  2  \n",
      "4       Johny                  3  \n",
      "5   Luxumberg                  2  \n",
      "6       Johny                  3  \n",
      "7   Sabestine                  3  \n",
      "8       Alter                  2  \n",
      "9   Sabestine                  3  \n",
      "10      Alter                  2  \n",
      "11      Adgra                  2  \n",
      "12      Adgra                  2  \n",
      "13      Johny                  3  \n",
      "\n",
      " Final Data frame after adding Bonus column:\n",
      "      Id     Project       Cost    Status Gender     City  Age First Name  \\\n",
      "0   A001   Project 1  1002000.0  Finished      M    Paris   25       John   \n",
      "1   A002   Project 2  2000000.0   Ongoing      F   London   27      Alice   \n",
      "2   A003   Project 3  4500000.0  Finished      M  Berline   29        Tom   \n",
      "3   A004   Project 4  5500000.0   Ongoing      F  Newyork   31       Nina   \n",
      "4   A005   Project 5  3090000.0  Finished      F   Madrid   30        Amy   \n",
      "5   A002   Project 6   680000.0    Failed      F   London   27      Alice   \n",
      "6   A005   Project 7   400000.0  Finished      F   Madrid   30        Amy   \n",
      "7   A003   Project 8   350000.0    Failed      M  Berline   29        Tom   \n",
      "8   A001   Project 9   325000.0   Ongoing      M    Paris   25       John   \n",
      "9   A003  Project 10   300000.0  Finished      M  Berline   29        Tom   \n",
      "10  A001  Project 11  2000000.0    Failed      M    Paris   25       John   \n",
      "11  A004  Project 12  1000000.0   Ongoing      F  Newyork   31       Nina   \n",
      "12  A004  Project 13  3000000.0  Finished      F  Newyork   31       Nina   \n",
      "13  A005  Project 14   200000.0  Finished      F   Madrid   30        Amy   \n",
      "\n",
      "    Last Name  Designation Level   Bonus  \n",
      "0       Alter                  2   50100  \n",
      "1   Luxumberg                  2       0  \n",
      "2   Sabestine                  3  225000  \n",
      "3       Adgra                  2       0  \n",
      "4       Johny                  3  154500  \n",
      "5   Luxumberg                  2       0  \n",
      "6       Johny                  3   20000  \n",
      "7   Sabestine                  3       0  \n",
      "8       Alter                  2       0  \n",
      "9   Sabestine                  3   15000  \n",
      "10      Alter                  2       0  \n",
      "11      Adgra                  2       0  \n",
      "12      Adgra                  2  150000  \n",
      "13      Johny                  3   10000  \n"
     ]
    }
   ],
   "source": [
    "#TASK 5\n",
    "\n",
    "#Print Final Data frame before adding Bonus column\n",
    "print(\"Final Data frame before adding Bonus column\")\n",
    "print(Final)\n",
    "\n",
    "#Add a new bonus column in the Final DataFrame\n",
    "Final['Bonus']=0\n",
    "Final.loc[Final['Status']=='Finished','Bonus']=Final.loc[Final['Status']=='Finished','Cost'].apply(lambda x:x*0.05)\n",
    "\n",
    "#Print the Final Dataframe after adding Bonus column:\")\n",
    "print(\"\\n Final Data frame after adding Bonus column:\")\n",
    "print(Final)"
   ]
  },
  {
   "cell_type": "code",
   "execution_count": null,
   "id": "5f0457ce-3a7f-42ca-ab48-0e68643752a0",
   "metadata": {},
   "outputs": [],
   "source": []
  },
  {
   "cell_type": "code",
   "execution_count": 15,
   "id": "c63b391e-31c4-4ee8-93f1-584d60972f07",
   "metadata": {},
   "outputs": [
    {
     "name": "stdout",
     "output_type": "stream",
     "text": [
      "      Id     Project       Cost    Status Gender     City  Age First Name  \\\n",
      "0   A001   Project 1  1002000.0  Finished      M    Paris   25       John   \n",
      "1   A002   Project 2  2000000.0   Ongoing      F   London   27      Alice   \n",
      "2   A003   Project 3  4500000.0  Finished      M  Berline   29        Tom   \n",
      "3   A004   Project 4  5500000.0   Ongoing      F  Newyork   31       Nina   \n",
      "4   A005   Project 5  3090000.0  Finished      F   Madrid   30        Amy   \n",
      "5   A002   Project 6   680000.0    Failed      F   London   27      Alice   \n",
      "6   A005   Project 7   400000.0  Finished      F   Madrid   30        Amy   \n",
      "7   A003   Project 8   350000.0    Failed      M  Berline   29        Tom   \n",
      "8   A001   Project 9   325000.0   Ongoing      M    Paris   25       John   \n",
      "9   A003  Project 10   300000.0  Finished      M  Berline   29        Tom   \n",
      "10  A001  Project 11  2000000.0    Failed      M    Paris   25       John   \n",
      "11  A004  Project 12  1000000.0   Ongoing      F  Newyork   31       Nina   \n",
      "12  A004  Project 13  3000000.0  Finished      F  Newyork   31       Nina   \n",
      "13  A005  Project 14   200000.0  Finished      F   Madrid   30        Amy   \n",
      "\n",
      "    Last Name  Designation Level   Bonus  \n",
      "0       Alter                  2   50100  \n",
      "1   Luxumberg                  2       0  \n",
      "2   Sabestine                  3  225000  \n",
      "3       Adgra                  2       0  \n",
      "4       Johny                  3  154500  \n",
      "5   Luxumberg                  2       0  \n",
      "6       Johny                  3   20000  \n",
      "7   Sabestine                  3       0  \n",
      "8       Alter                  2       0  \n",
      "9   Sabestine                  3   15000  \n",
      "10      Alter                  2       0  \n",
      "11      Adgra                  2       0  \n",
      "12      Adgra                  2  150000  \n",
      "13      Johny                  3   10000  \n",
      "Final DataFrame after doing the changes related to designation level\n",
      "      Id     Project       Cost    Status Gender     City  Age First Name  \\\n",
      "0   A001   Project 1  1002000.0  Finished      M    Paris   25       John   \n",
      "1   A002   Project 2  2000000.0   Ongoing      F   London   27      Alice   \n",
      "2   A003   Project 3  4500000.0  Finished      M  Berline   29        Tom   \n",
      "3   A004   Project 4  5500000.0   Ongoing      F  Newyork   31       Nina   \n",
      "4   A005   Project 5  3090000.0  Finished      F   Madrid   30        Amy   \n",
      "5   A002   Project 6   680000.0    Failed      F   London   27      Alice   \n",
      "6   A005   Project 7   400000.0  Finished      F   Madrid   30        Amy   \n",
      "7   A003   Project 8   350000.0    Failed      M  Berline   29        Tom   \n",
      "8   A001   Project 9   325000.0   Ongoing      M    Paris   25       John   \n",
      "9   A003  Project 10   300000.0  Finished      M  Berline   29        Tom   \n",
      "10  A001  Project 11  2000000.0    Failed      M    Paris   25       John   \n",
      "11  A004  Project 12  1000000.0   Ongoing      F  Newyork   31       Nina   \n",
      "12  A004  Project 13  3000000.0  Finished      F  Newyork   31       Nina   \n",
      "13  A005  Project 14   200000.0  Finished      F   Madrid   30        Amy   \n",
      "\n",
      "    Last Name  Designation Level   Bonus  \n",
      "0       Alter                  2   50100  \n",
      "1   Luxumberg                  2       0  \n",
      "2   Sabestine                  3  225000  \n",
      "3       Adgra                  2       0  \n",
      "4       Johny                  3  154500  \n",
      "5   Luxumberg                  1       0  \n",
      "6       Johny                  3   20000  \n",
      "7   Sabestine                  2       0  \n",
      "8       Alter                  2       0  \n",
      "9   Sabestine                  3   15000  \n",
      "10      Alter                  1       0  \n",
      "11      Adgra                  2       0  \n",
      "12      Adgra                  2  150000  \n",
      "13      Johny                  3   10000  \n"
     ]
    }
   ],
   "source": [
    "#Task 6\n",
    "print(Final)\n",
    "\n",
    "#Demote the designation level by 1 for employees whose project has a status of 'Failed'\n",
    "\n",
    "Final.loc[Final['Status']=='Failed','Designation Level']=Final.loc[Final['Status']=='Failed','Designation Level']-1\n",
    "\n",
    "#Delete the employees Record whose designation level is above 4\n",
    "Final=Final[Final['Designation Level']<=4]\n",
    "\n",
    "#Print the Updated datframe after making the changes \n",
    "print(\"Final DataFrame after doing the changes related to designation level\")\n",
    "print(Final)"
   ]
  },
  {
   "cell_type": "code",
   "execution_count": null,
   "id": "7d943c56-ec69-401f-a3e9-ec8713fa8626",
   "metadata": {},
   "outputs": [],
   "source": []
  },
  {
   "cell_type": "code",
   "execution_count": 17,
   "id": "58231eca-13e2-438f-9d7a-8c506689ecb5",
   "metadata": {},
   "outputs": [
    {
     "name": "stdout",
     "output_type": "stream",
     "text": [
      "Data Frame after addinf title to first name and removing the gender column\n",
      "      Id     Project       Cost    Status     City  Age First Name  Last Name  \\\n",
      "0   A001   Project 1  1002000.0  Finished    Paris   25    Mr.John      Alter   \n",
      "1   A002   Project 2  2000000.0   Ongoing   London   27  Mrs.Alice  Luxumberg   \n",
      "2   A003   Project 3  4500000.0  Finished  Berline   29     Mr.Tom  Sabestine   \n",
      "3   A004   Project 4  5500000.0   Ongoing  Newyork   31   Mrs.Nina      Adgra   \n",
      "4   A005   Project 5  3090000.0  Finished   Madrid   30    Mrs.Amy      Johny   \n",
      "5   A002   Project 6   680000.0    Failed   London   27  Mrs.Alice  Luxumberg   \n",
      "6   A005   Project 7   400000.0  Finished   Madrid   30    Mrs.Amy      Johny   \n",
      "7   A003   Project 8   350000.0    Failed  Berline   29     Mr.Tom  Sabestine   \n",
      "8   A001   Project 9   325000.0   Ongoing    Paris   25    Mr.John      Alter   \n",
      "9   A003  Project 10   300000.0  Finished  Berline   29     Mr.Tom  Sabestine   \n",
      "10  A001  Project 11  2000000.0    Failed    Paris   25    Mr.John      Alter   \n",
      "11  A004  Project 12  1000000.0   Ongoing  Newyork   31   Mrs.Nina      Adgra   \n",
      "12  A004  Project 13  3000000.0  Finished  Newyork   31   Mrs.Nina      Adgra   \n",
      "13  A005  Project 14   200000.0  Finished   Madrid   30    Mrs.Amy      Johny   \n",
      "\n",
      "    Designation Level   Bonus  \n",
      "0                   2   50100  \n",
      "1                   2       0  \n",
      "2                   3  225000  \n",
      "3                   2       0  \n",
      "4                   3  154500  \n",
      "5                   1       0  \n",
      "6                   3   20000  \n",
      "7                   2       0  \n",
      "8                   2       0  \n",
      "9                   3   15000  \n",
      "10                  1       0  \n",
      "11                  2       0  \n",
      "12                  2  150000  \n",
      "13                  3   10000  \n"
     ]
    }
   ],
   "source": [
    "#Task 7\n",
    "\n",
    "#Add \"Mr.\" and \"Mrs.\" tp the first name column\n",
    "Final['First Name']=Final['First Name'].str.split().str[0]\n",
    "Final['Title']= Final.apply(lambda x:'Mr.'if x['Gender']=='M' else 'Mrs.' if x['Gender']=='F' else None, axis=1)\n",
    "Final['First Name']=Final.apply(lambda x: x['Title']+''+x['First Name'] if x['Title']is not None else x['First Name'],axis=1)\n",
    "\n",
    "#Drop the Gender Column\n",
    "Final=Final.drop(columns=['Gender','Title'])\n",
    "\n",
    "#Print the updated data frame\n",
    "print(\"Data Frame after addinf title to first name and removing the gender column\")\n",
    "print(Final)"
   ]
  },
  {
   "cell_type": "code",
   "execution_count": null,
   "id": "18e85170-5853-4e00-b76c-11165f6f6df9",
   "metadata": {},
   "outputs": [],
   "source": []
  },
  {
   "cell_type": "code",
   "execution_count": 19,
   "id": "bee4dcbd-79c3-49b6-86c3-6f117eccebe2",
   "metadata": {},
   "outputs": [
    {
     "name": "stdout",
     "output_type": "stream",
     "text": [
      "\n",
      " Final Data frame after changing the designation level based on age\n",
      "      Id     Project       Cost    Status     City  Age First Name  Last Name  \\\n",
      "0   A001   Project 1  1002000.0  Finished    Paris   25    Mr.John      Alter   \n",
      "1   A002   Project 2  2000000.0   Ongoing   London   27  Mrs.Alice  Luxumberg   \n",
      "2   A003   Project 3  4500000.0  Finished  Berline   29     Mr.Tom  Sabestine   \n",
      "3   A004   Project 4  5500000.0   Ongoing  Newyork   31   Mrs.Nina      Adgra   \n",
      "4   A005   Project 5  3090000.0  Finished   Madrid   30    Mrs.Amy      Johny   \n",
      "5   A002   Project 6   680000.0    Failed   London   27  Mrs.Alice  Luxumberg   \n",
      "6   A005   Project 7   400000.0  Finished   Madrid   30    Mrs.Amy      Johny   \n",
      "7   A003   Project 8   350000.0    Failed  Berline   29     Mr.Tom  Sabestine   \n",
      "8   A001   Project 9   325000.0   Ongoing    Paris   25    Mr.John      Alter   \n",
      "9   A003  Project 10   300000.0  Finished  Berline   29     Mr.Tom  Sabestine   \n",
      "10  A001  Project 11  2000000.0    Failed    Paris   25    Mr.John      Alter   \n",
      "11  A004  Project 12  1000000.0   Ongoing  Newyork   31   Mrs.Nina      Adgra   \n",
      "12  A004  Project 13  3000000.0  Finished  Newyork   31   Mrs.Nina      Adgra   \n",
      "13  A005  Project 14   200000.0  Finished   Madrid   30    Mrs.Amy      Johny   \n",
      "\n",
      "    Designation Level   Bonus  \n",
      "0                   2   50100  \n",
      "1                   2       0  \n",
      "2                   3  225000  \n",
      "3                   3       0  \n",
      "4                   4  154500  \n",
      "5                   1       0  \n",
      "6                   4   20000  \n",
      "7                   2       0  \n",
      "8                   2       0  \n",
      "9                   3   15000  \n",
      "10                  1       0  \n",
      "11                  3       0  \n",
      "12                  3  150000  \n",
      "13                  4   10000  \n"
     ]
    }
   ],
   "source": [
    "#Task 8\n",
    "\n",
    "#Promote designation level by 1 for the employee whose age is more than 29 years\n",
    "Final['Designation Level']=Final.apply(lambda x:x['Designation Level']+1 if x['Age']>29 else x['Designation Level'],axis=1)\n",
    "\n",
    "#print the final data frame after making the changes on designation level based on age\n",
    "print(\"\\n Final Data frame after changing the designation level based on age\")\n",
    "print(Final)"
   ]
  },
  {
   "cell_type": "code",
   "execution_count": null,
   "id": "3100044e-1013-4d72-94fe-df26a85efafd",
   "metadata": {},
   "outputs": [],
   "source": []
  },
  {
   "cell_type": "code",
   "execution_count": 21,
   "id": "844f6bcf-3b3f-405c-b477-e3e923432873",
   "metadata": {},
   "outputs": [
    {
     "name": "stdout",
     "output_type": "stream",
     "text": [
      "     Id  Total Cost First Name\n",
      "0  A001   3327000.0    Mr.John\n",
      "1  A002   2680000.0  Mrs.Alice\n",
      "2  A003   5150000.0     Mr.Tom\n",
      "3  A004   9500000.0   Mrs.Nina\n",
      "4  A005   3690000.0    Mrs.Amy\n"
     ]
    }
   ],
   "source": [
    "#Task 9\n",
    "#create a new dataframe to store the total project cost for each employee\n",
    "TotalProjectCost=Final.groupby('Id')['Cost'].sum().reset_index()\n",
    "TotalProjectCost.columns=['Id','Total Cost']\n",
    "TotalProjectCost['First Name']=Final.loc[Final['Id'].isin(TotalProjectCost['Id']),'First Name'].unique()\n",
    "\n",
    "#Print the total project cost for each employee\n",
    "print(TotalProjectCost)\n"
   ]
  },
  {
   "cell_type": "code",
   "execution_count": null,
   "id": "c09131ea-e3d8-4567-94a4-e57df1fe007e",
   "metadata": {},
   "outputs": [],
   "source": []
  },
  {
   "cell_type": "code",
   "execution_count": 23,
   "id": "0c9e16e0-e810-4b95-a96c-519c69497324",
   "metadata": {},
   "outputs": [
    {
     "name": "stdout",
     "output_type": "stream",
     "text": [
      "      Id     Project       Cost    Status     City  Age First Name  Last Name  \\\n",
      "1   A002   Project 2  2000000.0   Ongoing   London   27  Mrs.Alice  Luxumberg   \n",
      "3   A004   Project 4  5500000.0   Ongoing  Newyork   31   Mrs.Nina      Adgra   \n",
      "5   A002   Project 6   680000.0    Failed   London   27  Mrs.Alice  Luxumberg   \n",
      "11  A004  Project 12  1000000.0   Ongoing  Newyork   31   Mrs.Nina      Adgra   \n",
      "12  A004  Project 13  3000000.0  Finished  Newyork   31   Mrs.Nina      Adgra   \n",
      "\n",
      "    Designation Level   Bonus  \n",
      "1                   2       0  \n",
      "3                   3       0  \n",
      "5                   1       0  \n",
      "11                  3       0  \n",
      "12                  3  150000  \n"
     ]
    }
   ],
   "source": [
    "#Task 10\n",
    "\n",
    "#print all the employee details whose city name contains the letter \"o\" in it\n",
    "print(Final[Final['City'].apply(lambda x:'o' in x)])"
   ]
  },
  {
   "cell_type": "code",
   "execution_count": null,
   "id": "8b4a9612-a923-4214-b637-80a4774d0f41",
   "metadata": {},
   "outputs": [],
   "source": []
  }
 ],
 "metadata": {
  "kernelspec": {
   "display_name": "Python 3 (ipykernel)",
   "language": "python",
   "name": "python3"
  },
  "language_info": {
   "codemirror_mode": {
    "name": "ipython",
    "version": 3
   },
   "file_extension": ".py",
   "mimetype": "text/x-python",
   "name": "python",
   "nbconvert_exporter": "python",
   "pygments_lexer": "ipython3",
   "version": "3.12.4"
  }
 },
 "nbformat": 4,
 "nbformat_minor": 5
}
